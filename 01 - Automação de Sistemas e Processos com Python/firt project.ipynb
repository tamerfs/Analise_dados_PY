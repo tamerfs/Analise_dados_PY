{
 "cells": [
  {
   "cell_type": "code",
   "execution_count": 1,
   "id": "2e7a4415",
   "metadata": {},
   "outputs": [
    {
     "name": "stdout",
     "output_type": "stream",
     "text": [
      "PRIMEIRO PROJETO\n"
     ]
    }
   ],
   "source": [
    "print(\"PRIMEIRO PROJETO\")"
   ]
  },
  {
   "cell_type": "code",
   "execution_count": null,
   "id": "de3ec4f8",
   "metadata": {},
   "outputs": [],
   "source": []
  }
 ],
 "metadata": {
  "kernelspec": {
   "display_name": "Python 3 (ipykernel)",
   "language": "python",
   "name": "python3"
  },
  "language_info": {
   "codemirror_mode": {
    "name": "ipython",
    "version": 3
   },
   "file_extension": ".py",
   "mimetype": "text/x-python",
   "name": "python",
   "nbconvert_exporter": "python",
   "pygments_lexer": "ipython3",
   "version": "3.9.7"
  }
 },
 "nbformat": 4,
 "nbformat_minor": 5
}
